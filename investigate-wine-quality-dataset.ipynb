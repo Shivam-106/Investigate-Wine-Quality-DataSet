{
 "cells": [
  {
   "cell_type": "markdown",
   "metadata": {},
   "source": [
    "# Investigate Wine Quality DataSet\n",
    "---\n",
    "\n",
    "## Table of Contents\n",
    "<ul>\n",
    "    <li><a href=\"#intro\">Introduction</a></li>  \n",
    "    <li><a href=\"#wrangling\">Data Wrangling</a></li>\n",
    "</ul>    "
   ]
  },
  {
   "cell_type": "markdown",
   "metadata": {},
   "source": [
    "<a id='intro'></a>\n",
    "## Introduction\n",
    "---\n",
    "We're going to investigate this [dataset](https://archive.ics.uci.edu/ml/datasets/Wine+Quality) on physicochemical properties and quality ratings of red and white wine samples.\n",
    "\n",
    "##  Wine Quality Data Set from UCI Machine Learning Lab\n",
    "There are two datasets that provide information on samples of red and white variants of the Portuguese \"Vinho Verde\" wine.\n",
    "Each sample of wine was rated for quality by wine experts and examined with physicochemical tests. Due to privacy and logistic\n",
    "issues, only data on these physicochemical properties and quality ratings are available (e.g. there is no data about grape types,   wine brand, wine selling price, etc.). ([Source](https://archive.ics.uci.edu/ml/datasets/Wine+Quality))\n",
    "\n",
    "### Attributes in Each Dataset:\n",
    "\n",
    "**# Physicochemical Properties**\n",
    "1. Fixed Acidity  \n",
    "2. Volatile Acidity  \n",
    "3. Citric Acid  \n",
    "4. Residual Sugar  \n",
    "5. Chlorides  \n",
    "6. Free Sulfur Dioxide  \n",
    "7. Total Sulfur Dioxide  \n",
    "8. Density  \n",
    "9. pH  \n",
    "10. Sulphates  \n",
    "11. Alcohol  \n",
    "\n",
    "**# Quality Rating**  \n",
    "12.  Quality - Score between 0 and 10 (median of at least 3 evaluations made by wine experts)\n",
    "\n",
    "## Asking Questions\n",
    "\n",
    "**Relevent questions to this dataset:**\n",
    " * What chemical characteristics are most important in predicting the quality of wine?\n",
    " * Is a certain type of wine (red or white) associated with higher quality?\n",
    " * Do wines with higher alcoholic content receive better ratings?\n",
    " * Do sweeter wines (more residual sugar) receive better ratings?\n",
    " * What level of acidity is associated with the highest quality?"
   ]
  },
  {
   "cell_type": "code",
   "execution_count": 1,
   "metadata": {},
   "outputs": [],
   "source": [
    "# importing necessary packages\n",
    "import numpy as np\n",
    "import pandas as pd\n",
    "import matplotlib.pyplot as plt\n",
    "# Including a 'magic word' so that our visualizations are plotted inline with the notebook.\n",
    "%matplotlib inline    \n",
    "import seaborn as sns"
   ]
  },
  {
   "cell_type": "markdown",
   "metadata": {},
   "source": [
    "<a id='wrangling'></a>\n",
    "## Data Wrangling\n",
    "---"
   ]
  },
  {
   "cell_type": "markdown",
   "metadata": {},
   "source": [
    "### Gathering Data\n",
    "Load wine quality datasets present in files `winequality-red.csv` and `winequality-white.csv`."
   ]
  },
  {
   "cell_type": "code",
   "execution_count": 2,
   "metadata": {},
   "outputs": [
    {
     "data": {
      "text/html": [
       "<div>\n",
       "<style scoped>\n",
       "    .dataframe tbody tr th:only-of-type {\n",
       "        vertical-align: middle;\n",
       "    }\n",
       "\n",
       "    .dataframe tbody tr th {\n",
       "        vertical-align: top;\n",
       "    }\n",
       "\n",
       "    .dataframe thead th {\n",
       "        text-align: right;\n",
       "    }\n",
       "</style>\n",
       "<table border=\"1\" class=\"dataframe\">\n",
       "  <thead>\n",
       "    <tr style=\"text-align: right;\">\n",
       "      <th></th>\n",
       "      <th>fixed_acidity;volatile_acidity;citric_acid;residual_sugar;chlorides;free_sulfur_dioxide;total_sulfur-dioxide;density;pH;sulphates;alcohol;quality</th>\n",
       "    </tr>\n",
       "  </thead>\n",
       "  <tbody>\n",
       "    <tr>\n",
       "      <th>0</th>\n",
       "      <td>7.4;0.7;0;1.9;0.076;11;34;0.9978;3.51;0.56;9.4;5</td>\n",
       "    </tr>\n",
       "    <tr>\n",
       "      <th>1</th>\n",
       "      <td>7.8;0.88;0;2.6;0.098;25;67;0.9968;3.2;0.68;9.8;5</td>\n",
       "    </tr>\n",
       "    <tr>\n",
       "      <th>2</th>\n",
       "      <td>7.8;0.76;0.04;2.3;0.092;15;54;0.997;3.26;0.65;...</td>\n",
       "    </tr>\n",
       "    <tr>\n",
       "      <th>3</th>\n",
       "      <td>11.2;0.28;0.56;1.9;0.075;17;60;0.998;3.16;0.58...</td>\n",
       "    </tr>\n",
       "    <tr>\n",
       "      <th>4</th>\n",
       "      <td>7.4;0.7;0;1.9;0.076;11;34;0.9978;3.51;0.56;9.4;5</td>\n",
       "    </tr>\n",
       "  </tbody>\n",
       "</table>\n",
       "</div>"
      ],
      "text/plain": [
       "  fixed_acidity;volatile_acidity;citric_acid;residual_sugar;chlorides;free_sulfur_dioxide;total_sulfur-dioxide;density;pH;sulphates;alcohol;quality\n",
       "0   7.4;0.7;0;1.9;0.076;11;34;0.9978;3.51;0.56;9.4;5                                                                                               \n",
       "1   7.8;0.88;0;2.6;0.098;25;67;0.9968;3.2;0.68;9.8;5                                                                                               \n",
       "2  7.8;0.76;0.04;2.3;0.092;15;54;0.997;3.26;0.65;...                                                                                               \n",
       "3  11.2;0.28;0.56;1.9;0.075;17;60;0.998;3.16;0.58...                                                                                               \n",
       "4   7.4;0.7;0;1.9;0.076;11;34;0.9978;3.51;0.56;9.4;5                                                                                               "
      ]
     },
     "execution_count": 2,
     "metadata": {},
     "output_type": "execute_result"
    }
   ],
   "source": [
    "# loading data files\n",
    "red_df = pd.read_csv('winequality-red.csv')\n",
    "white_df = pd.read_csv('winequality-white.csv')\n",
    "# printing first few rows\n",
    "red_df.head()"
   ]
  },
  {
   "cell_type": "markdown",
   "metadata": {},
   "source": [
    "Looks like columns in datasets are seprated by semicolon. Use  `sep = ';'`  parameter in  `read_csv`  method."
   ]
  },
  {
   "cell_type": "code",
   "execution_count": 3,
   "metadata": {},
   "outputs": [],
   "source": [
    "# load data files again with `sep` parameter \n",
    "red_df = pd.read_csv('winequality-red.csv', sep = ';')\n",
    "white_df = pd.read_csv('winequality-white.csv', sep = ';')"
   ]
  }
 ],
 "metadata": {
  "kernelspec": {
   "display_name": "Python 3",
   "language": "python",
   "name": "python3"
  },
  "language_info": {
   "codemirror_mode": {
    "name": "ipython",
    "version": 3
   },
   "file_extension": ".py",
   "mimetype": "text/x-python",
   "name": "python",
   "nbconvert_exporter": "python",
   "pygments_lexer": "ipython3",
   "version": "3.8.5"
  }
 },
 "nbformat": 4,
 "nbformat_minor": 4
}
