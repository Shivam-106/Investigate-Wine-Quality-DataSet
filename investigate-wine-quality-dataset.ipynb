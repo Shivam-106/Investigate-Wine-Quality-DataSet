{
 "cells": [
  {
   "cell_type": "markdown",
   "metadata": {},
   "source": [
    "# Investigate Wine Quality DataSet\n",
    "---\n",
    "\n",
    "## Table of Contents\n",
    "<ul>\n",
    "    <li><a href=\"#intro\">Introduction</a></li>  \n",
    "</ul>    "
   ]
  },
  {
   "cell_type": "markdown",
   "metadata": {},
   "source": [
    "<a id='intro'></a>\n",
    "## Introduction\n",
    "---\n",
    "We're going to investigate this [dataset](https://archive.ics.uci.edu/ml/datasets/Wine+Quality) on physicochemical properties and quality ratings of red and white wine samples.\n",
    "\n",
    "##  Wine Quality Data Set from UCI Machine Learning Lab\n",
    "There are two datasets that provide information on samples of red and white variants of the Portuguese \"Vinho Verde\" wine.\n",
    "Each sample of wine was rated for quality by wine experts and examined with physicochemical tests. Due to privacy and logistic\n",
    "issues, only data on these physicochemical properties and quality ratings are available (e.g. there is no data about grape types,   wine brand, wine selling price, etc.). ([Source](https://archive.ics.uci.edu/ml/datasets/Wine+Quality))\n",
    "\n",
    "### Attributes in Each Dataset:\n",
    "\n",
    "**# Physicochemical Properties**\n",
    "1. Fixed Acidity  \n",
    "2. Volatile Acidity  \n",
    "3. Citric Acid  \n",
    "4. Residual Sugar  \n",
    "5. Chlorides  \n",
    "6. Free Sulfur Dioxide  \n",
    "7. Total Sulfur Dioxide  \n",
    "8. Density  \n",
    "9. pH  \n",
    "10. Sulphates  \n",
    "11. Alcohol  \n",
    "\n",
    "**# Quality Rating**  \n",
    "12.  Quality - Score between 0 and 10 (median of at least 3 evaluations made by wine experts)\n",
    "\n",
    "## Asking Questions\n",
    "\n",
    "**Relevent questions to this dataset:**\n",
    " * What chemical characteristics are most important in predicting the quality of wine?\n",
    " * Is a certain type of wine (red or white) associated with higher quality?\n",
    " * Do wines with higher alcoholic content receive better ratings?\n",
    " * Do sweeter wines (more residual sugar) receive better ratings?\n",
    " * What level of acidity is associated with the highest quality?"
   ]
  },
  {
   "cell_type": "code",
   "execution_count": null,
   "metadata": {},
   "outputs": [],
   "source": []
  }
 ],
 "metadata": {
  "kernelspec": {
   "display_name": "Python 3",
   "language": "python",
   "name": "python3"
  },
  "language_info": {
   "codemirror_mode": {
    "name": "ipython",
    "version": 3
   },
   "file_extension": ".py",
   "mimetype": "text/x-python",
   "name": "python",
   "nbconvert_exporter": "python",
   "pygments_lexer": "ipython3",
   "version": "3.8.5"
  }
 },
 "nbformat": 4,
 "nbformat_minor": 4
}
